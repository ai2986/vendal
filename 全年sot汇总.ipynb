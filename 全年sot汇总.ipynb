{
 "cells": [
  {
   "cell_type": "code",
   "execution_count": 22,
   "metadata": {},
   "outputs": [],
   "source": [
    "import pandas as pd\n",
    "import os\n",
    "import numpy as np"
   ]
  },
  {
   "cell_type": "code",
   "execution_count": 12,
   "metadata": {},
   "outputs": [],
   "source": [
    "pd.options.display.max_columns=None"
   ]
  },
  {
   "cell_type": "code",
   "execution_count": 79,
   "metadata": {},
   "outputs": [
    {
     "data": {
      "text/plain": [
       "['YJ-W10.xlsm',\n",
       " 'YJ-W11.xlsm',\n",
       " 'YJ-W12.xlsm',\n",
       " 'YJ-W13.xlsm',\n",
       " 'YJ-W14.xlsm',\n",
       " 'YJ-W15.xlsm',\n",
       " 'YJ-W16.xlsm',\n",
       " 'YJ-W17.xlsm',\n",
       " 'YJ-W18.xlsm',\n",
       " 'YJ-W19.xlsm',\n",
       " 'YJ-W2.xlsm',\n",
       " 'YJ-W20.xlsm',\n",
       " 'YJ-W21.xlsm',\n",
       " 'YJ-W22.xlsm',\n",
       " 'YJ-W23.xlsm',\n",
       " 'YJ-W24.xlsm',\n",
       " 'YJ-W25.xlsm',\n",
       " 'YJ-W26.xlsm',\n",
       " 'YJ-W27.xlsm',\n",
       " 'YJ-W28.xlsm',\n",
       " 'YJ-W29TC.xlsm',\n",
       " 'YJ-W3.xlsm',\n",
       " 'YJ-W30.xlsm',\n",
       " 'YJ-W31.xlsm',\n",
       " 'YJ-W32.xlsm',\n",
       " 'YJ-W33.xlsm',\n",
       " 'YJ-W4.xlsm',\n",
       " 'YJ-W41.xlsm',\n",
       " 'YJ-W42.xlsm',\n",
       " 'YJ-W43.xlsm',\n",
       " 'YJ-W44.xlsm',\n",
       " 'YJ-W45.xlsm',\n",
       " 'YJ-W46.xlsm',\n",
       " 'YJ-W47.xlsm',\n",
       " 'YJ-W6.xlsm',\n",
       " 'YJ-W7.xlsm',\n",
       " 'YJ-W8.xlsm']"
      ]
     },
     "execution_count": 79,
     "metadata": {},
     "output_type": "execute_result"
    }
   ],
   "source": [
    "c = ['QTES','UNIVERS','Ontime Picking\\nQTY', 'Ontime Loading\\nQTY',\"Dep Colis\\nWeekNum\"]\n",
    "l = []\n",
    "fp = os.listdir()[1:]\n",
    "fp"
   ]
  },
  {
   "cell_type": "code",
   "execution_count": 81,
   "metadata": {},
   "outputs": [],
   "source": [
    "for i in fp:\n",
    "    df1 = pd.read_excel(i,sheet_name=\"Data\")\n",
    "    df2 = df1[(df1[\"SECTEUR\"] == 96) | (df1[\"SECTEUR\"] == 66) & (df1[\"CAR WAREHOUSE\"] == \"CAR-YJ\")][c]\n",
    "    d_t = pd.pivot_table(df2,\n",
    "                         index=\"UNIVERS\",columns=\"Dep Colis\\nWeekNum\",\n",
    "                         aggfunc=np.sum)\n",
    "    l.append(d_t)\n",
    "\n",
    "for i in range(len(l)):\n",
    "    l[i].index = l[i].index.astype(int)\n",
    "dff = pd.concat(l,axis=1)\n",
    "dff.to_csv(\"1.csv\",encoding=\"gbk\")"
   ]
  },
  {
   "cell_type": "code",
   "execution_count": null,
   "metadata": {},
   "outputs": [],
   "source": [
    "# df1.head()\n",
    "# l[2].index = l[2].index.astype(int)\n",
    "# l[2]\n",
    "# 1,5,9,34-40\n",
    "# df1[(df1[\"SECTEUR\"] == 96) | (df1[\"SECTEUR\"] == 66) & (df1[\"CAR WAREHOUSE\"] == \"CAR-YJ\")][c]\n",
    "# df1.columns\n",
    "# pd.pivot_table(d_t,\n",
    "#                index=\"UNIVERS\",\n",
    "#                columns=\"Dep Colis\\nWeekNum\",\n",
    "#                aggfunc=np.sum)\n",
    "# f1 = pd.ExcelFile(\"YJ-W2.xlsm\")\n",
    "# ss = f1.sheet_names\n",
    "# ss"
   ]
  }
 ],
 "metadata": {
  "kernelspec": {
   "display_name": "base",
   "language": "python",
   "name": "python3"
  },
  "language_info": {
   "codemirror_mode": {
    "name": "ipython",
    "version": 3
   },
   "file_extension": ".py",
   "mimetype": "text/x-python",
   "name": "python",
   "nbconvert_exporter": "python",
   "pygments_lexer": "ipython3",
   "version": "3.11.5"
  }
 },
 "nbformat": 4,
 "nbformat_minor": 2
}
